{
 "cells": [
  {
   "cell_type": "markdown",
   "metadata": {},
   "source": [
    "# Homework 1"
   ]
  },
  {
   "cell_type": "markdown",
   "metadata": {},
   "source": [
    "### Problem 1 (1.17)"
   ]
  },
  {
   "cell_type": "markdown",
   "metadata": {},
   "source": [
    "No, $3.09$ is not dimensionless. The $BH^{\\frac{3}{2}}$ term has units of $ft^{\\frac{5}{2}}$ which is not the same as the units of $Q$, $\\frac{ft^3}{s}$. The constant would need units of $\\frac{ft^{\\frac{6}{5}}}{s}$. As such, this equation would not be valid for units other than feet and seconds. A conversion factor would be needed to convert between feet and seconds and the other units."
   ]
  },
  {
   "cell_type": "markdown",
   "metadata": {},
   "source": [
    "### Problem 2 (1.51)"
   ]
  },
  {
   "cell_type": "markdown",
   "metadata": {},
   "source": [
    "Given: $\\rho = 2.0\\ \\frac{kg}{m^3}$, $P_a = 97\\ kPa$, $T=25^{\\circ}C=298\\ K$, $R_{O_2}=260\\ \\frac{J}{kg{\\cdot}K}$"
   ]
  },
  {
   "cell_type": "markdown",
   "metadata": {},
   "source": [
    "$P=P_g+P_a$"
   ]
  },
  {
   "cell_type": "markdown",
   "metadata": {},
   "source": [
    "$P_g={\\rho}RT-P_a$"
   ]
  },
  {
   "cell_type": "markdown",
   "metadata": {},
   "source": [
    "$P_g=(2.0\\frac{kg}{m^3})(260\\frac{J}{kg{\\cdot}K})(298K)-(97kPa)=\\fbox{58kPa}$"
   ]
  },
  {
   "cell_type": "markdown",
   "metadata": {},
   "source": [
    "### Problem 3 (1.62)"
   ]
  },
  {
   "cell_type": "markdown",
   "metadata": {},
   "source": [
    "Given: $T=20^{\\circ}C=293K$, $P=150\\ kPa$, ${\\nu}=0.104\\ stokes = 0.104{\\cdot}10^{-4}\\frac{m^2}{s}$"
   ]
  },
  {
   "cell_type": "markdown",
   "metadata": {},
   "source": [
    "${\\nu}=\\frac{\\mu}{\\rho}\\quad{\\Rightarrow}\\quad{\\mu}={\\rho}{\\nu}=\\frac{P}{RT}{\\nu}$"
   ]
  },
  {
   "cell_type": "markdown",
   "metadata": {},
   "source": [
    "${\\mu}=\\frac{(150kPa)(0.104{\\cdot}10^{-4}\\frac{m^2}{s})}{(260\\frac{N{\\cdot}m}{kg{\\cdot}K})(293K)}=\n",
    "\\fbox{$2.05{\\cdot}10^{-5}\\frac{kg}{m{\\cdot}s}$}\n",
    "$"
   ]
  },
  {
   "cell_type": "markdown",
   "metadata": {},
   "source": [
    "### Problem 4 (1.73)"
   ]
  },
  {
   "cell_type": "markdown",
   "metadata": {},
   "source": [
    "Fluid velocity of top fluid: $u(y)=\\frac{(v-v_1)}{b-cb}+v_1$"
   ]
  },
  {
   "cell_type": "markdown",
   "metadata": {},
   "source": [
    "Fluid velocity of bottom fluid: $u_1(y)=\\frac{v_1}{cb}y$"
   ]
  },
  {
   "cell_type": "markdown",
   "metadata": {},
   "source": [
    "$\\tau=\\mu\\frac{du}{dy}\\quad\\Rightarrow\\quad\\tau_{top}=\\mu_{top}\\frac{du}{dy}=(2\\mu)({\\frac{v-v_1}{b-cb}})$"
   ]
  },
  {
   "cell_type": "markdown",
   "metadata": {},
   "source": [
    "As we can see, the shear stress on the top fluid is not a function of $y$, so it is constant throughout the fluid. This means that the shear stress acting on the top fluid is the same as the one that acts on the bottom fluid."
   ]
  },
  {
   "cell_type": "markdown",
   "metadata": {},
   "source": [
    "$\\tau_{bottom}=\\tau_{top}\\quad\\Rightarrow\\quad\n",
    "\\mu_{bottom}\\frac{du_1}{dy}=\\mu_{top}\\frac{du}{dy}\\quad\\Rightarrow\\quad\n",
    "\\mu\\frac{v_1}{cb}=2\\mu\\frac{(v-v_1)}{b-cb}$"
   ]
  },
  {
   "cell_type": "markdown",
   "metadata": {},
   "source": [
    "Simplifying and solving for the ratio: $\\frac{v_1}{c}=2\\frac{(v-v_1)}{1-c}\\\\\n",
    "v_1-v_1c=2vc-2v_1c\\\\\n",
    "v_1(1+c)=2vc\\\\\n",
    "\\fbox{$\\frac{v_1}{v}=\\frac{2c}{1+c}$}\n",
    "$"
   ]
  },
  {
   "cell_type": "markdown",
   "metadata": {},
   "source": [
    "To plot the ratio of plate velocities as a function of $c$, let $R=\\frac{v_1}{v}=\\frac{2c}{1+c}$."
   ]
  },
  {
   "cell_type": "code",
   "execution_count": 6,
   "metadata": {},
   "outputs": [],
   "source": [
    "using Plots;"
   ]
  },
  {
   "cell_type": "code",
   "execution_count": 9,
   "metadata": {},
   "outputs": [],
   "source": [
    "R(c) = (2*c)/(c+1);"
   ]
  },
  {
   "cell_type": "code",
   "execution_count": 7,
   "metadata": {},
   "outputs": [],
   "source": [
    "c = range(0,1,length=101);"
   ]
  },
  {
   "cell_type": "code",
   "execution_count": 15,
   "metadata": {},
   "outputs": [
    {
     "data": {
      "image/svg+xml": [
       "<?xml version=\"1.0\" encoding=\"utf-8\"?>\n",
       "<svg xmlns=\"http://www.w3.org/2000/svg\" xmlns:xlink=\"http://www.w3.org/1999/xlink\" width=\"600\" height=\"400\" viewBox=\"0 0 2400 1600\">\n",
       "<defs>\n",
       "  <clipPath id=\"clip2100\">\n",
       "    <rect x=\"0\" y=\"0\" width=\"2400\" height=\"1600\"/>\n",
       "  </clipPath>\n",
       "</defs>\n",
       "<polygon clip-path=\"url(#clip2100)\" points=\"\n",
       "0,1600 2400,1600 2400,0 0,0 \n",
       "  \" fill=\"#ffffff\" fill-rule=\"evenodd\" fill-opacity=\"1\"/>\n",
       "<defs>\n",
       "  <clipPath id=\"clip2101\">\n",
       "    <rect x=\"480\" y=\"0\" width=\"1681\" height=\"1600\"/>\n",
       "  </clipPath>\n",
       "</defs>\n",
       "<polygon clip-path=\"url(#clip2100)\" points=\"\n",
       "242.516,1425.62 2352.76,1425.62 2352.76,47.2441 242.516,47.2441 \n",
       "  \" fill=\"#ffffff\" fill-rule=\"evenodd\" fill-opacity=\"1\"/>\n",
       "<defs>\n",
       "  <clipPath id=\"clip2102\">\n",
       "    <rect x=\"242\" y=\"47\" width=\"2111\" height=\"1379\"/>\n",
       "  </clipPath>\n",
       "</defs>\n",
       "<polyline clip-path=\"url(#clip2102)\" style=\"stroke:#000000; stroke-width:2; stroke-opacity:0.1; fill:none\" points=\"\n",
       "  242.516,1425.62 242.516,47.2441 \n",
       "  \"/>\n",
       "<polyline clip-path=\"url(#clip2102)\" style=\"stroke:#000000; stroke-width:2; stroke-opacity:0.1; fill:none\" points=\"\n",
       "  664.564,1425.62 664.564,47.2441 \n",
       "  \"/>\n",
       "<polyline clip-path=\"url(#clip2102)\" style=\"stroke:#000000; stroke-width:2; stroke-opacity:0.1; fill:none\" points=\"\n",
       "  1086.61,1425.62 1086.61,47.2441 \n",
       "  \"/>\n",
       "<polyline clip-path=\"url(#clip2102)\" style=\"stroke:#000000; stroke-width:2; stroke-opacity:0.1; fill:none\" points=\"\n",
       "  1508.66,1425.62 1508.66,47.2441 \n",
       "  \"/>\n",
       "<polyline clip-path=\"url(#clip2102)\" style=\"stroke:#000000; stroke-width:2; stroke-opacity:0.1; fill:none\" points=\"\n",
       "  1930.71,1425.62 1930.71,47.2441 \n",
       "  \"/>\n",
       "<polyline clip-path=\"url(#clip2102)\" style=\"stroke:#000000; stroke-width:2; stroke-opacity:0.1; fill:none\" points=\"\n",
       "  2352.76,1425.62 2352.76,47.2441 \n",
       "  \"/>\n",
       "<polyline clip-path=\"url(#clip2102)\" style=\"stroke:#000000; stroke-width:2; stroke-opacity:0.1; fill:none\" points=\"\n",
       "  242.516,1425.62 2352.76,1425.62 \n",
       "  \"/>\n",
       "<polyline clip-path=\"url(#clip2102)\" style=\"stroke:#000000; stroke-width:2; stroke-opacity:0.1; fill:none\" points=\"\n",
       "  242.516,1138.46 2352.76,1138.46 \n",
       "  \"/>\n",
       "<polyline clip-path=\"url(#clip2102)\" style=\"stroke:#000000; stroke-width:2; stroke-opacity:0.1; fill:none\" points=\"\n",
       "  242.516,851.296 2352.76,851.296 \n",
       "  \"/>\n",
       "<polyline clip-path=\"url(#clip2102)\" style=\"stroke:#000000; stroke-width:2; stroke-opacity:0.1; fill:none\" points=\"\n",
       "  242.516,564.135 2352.76,564.135 \n",
       "  \"/>\n",
       "<polyline clip-path=\"url(#clip2102)\" style=\"stroke:#000000; stroke-width:2; stroke-opacity:0.1; fill:none\" points=\"\n",
       "  242.516,276.973 2352.76,276.973 \n",
       "  \"/>\n",
       "<polyline clip-path=\"url(#clip2100)\" style=\"stroke:#000000; stroke-width:4; stroke-opacity:1; fill:none\" points=\"\n",
       "  242.516,1425.62 2352.76,1425.62 \n",
       "  \"/>\n",
       "<polyline clip-path=\"url(#clip2100)\" style=\"stroke:#000000; stroke-width:4; stroke-opacity:1; fill:none\" points=\"\n",
       "  242.516,1425.62 242.516,47.2441 \n",
       "  \"/>\n",
       "<polyline clip-path=\"url(#clip2100)\" style=\"stroke:#000000; stroke-width:4; stroke-opacity:1; fill:none\" points=\"\n",
       "  242.516,1425.62 242.516,1404.94 \n",
       "  \"/>\n",
       "<polyline clip-path=\"url(#clip2100)\" style=\"stroke:#000000; stroke-width:4; stroke-opacity:1; fill:none\" points=\"\n",
       "  664.564,1425.62 664.564,1404.94 \n",
       "  \"/>\n",
       "<polyline clip-path=\"url(#clip2100)\" style=\"stroke:#000000; stroke-width:4; stroke-opacity:1; fill:none\" points=\"\n",
       "  1086.61,1425.62 1086.61,1404.94 \n",
       "  \"/>\n",
       "<polyline clip-path=\"url(#clip2100)\" style=\"stroke:#000000; stroke-width:4; stroke-opacity:1; fill:none\" points=\"\n",
       "  1508.66,1425.62 1508.66,1404.94 \n",
       "  \"/>\n",
       "<polyline clip-path=\"url(#clip2100)\" style=\"stroke:#000000; stroke-width:4; stroke-opacity:1; fill:none\" points=\"\n",
       "  1930.71,1425.62 1930.71,1404.94 \n",
       "  \"/>\n",
       "<polyline clip-path=\"url(#clip2100)\" style=\"stroke:#000000; stroke-width:4; stroke-opacity:1; fill:none\" points=\"\n",
       "  2352.76,1425.62 2352.76,1404.94 \n",
       "  \"/>\n",
       "<polyline clip-path=\"url(#clip2100)\" style=\"stroke:#000000; stroke-width:4; stroke-opacity:1; fill:none\" points=\"\n",
       "  242.516,1425.62 274.17,1425.62 \n",
       "  \"/>\n",
       "<polyline clip-path=\"url(#clip2100)\" style=\"stroke:#000000; stroke-width:4; stroke-opacity:1; fill:none\" points=\"\n",
       "  242.516,1138.46 274.17,1138.46 \n",
       "  \"/>\n",
       "<polyline clip-path=\"url(#clip2100)\" style=\"stroke:#000000; stroke-width:4; stroke-opacity:1; fill:none\" points=\"\n",
       "  242.516,851.296 274.17,851.296 \n",
       "  \"/>\n",
       "<polyline clip-path=\"url(#clip2100)\" style=\"stroke:#000000; stroke-width:4; stroke-opacity:1; fill:none\" points=\"\n",
       "  242.516,564.135 274.17,564.135 \n",
       "  \"/>\n",
       "<polyline clip-path=\"url(#clip2100)\" style=\"stroke:#000000; stroke-width:4; stroke-opacity:1; fill:none\" points=\"\n",
       "  242.516,276.973 274.17,276.973 \n",
       "  \"/>\n",
       "<g clip-path=\"url(#clip2100)\">\n",
       "<text style=\"fill:#000000; fill-opacity:1; font-family:Arial,Helvetica Neue,Helvetica,sans-serif; font-size:48px; text-anchor:middle;\" transform=\"rotate(0, 242.516, 1479.62)\" x=\"242.516\" y=\"1479.62\">0.0</text>\n",
       "</g>\n",
       "<g clip-path=\"url(#clip2100)\">\n",
       "<text style=\"fill:#000000; fill-opacity:1; font-family:Arial,Helvetica Neue,Helvetica,sans-serif; font-size:48px; text-anchor:middle;\" transform=\"rotate(0, 664.564, 1479.62)\" x=\"664.564\" y=\"1479.62\">0.2</text>\n",
       "</g>\n",
       "<g clip-path=\"url(#clip2100)\">\n",
       "<text style=\"fill:#000000; fill-opacity:1; font-family:Arial,Helvetica Neue,Helvetica,sans-serif; font-size:48px; text-anchor:middle;\" transform=\"rotate(0, 1086.61, 1479.62)\" x=\"1086.61\" y=\"1479.62\">0.4</text>\n",
       "</g>\n",
       "<g clip-path=\"url(#clip2100)\">\n",
       "<text style=\"fill:#000000; fill-opacity:1; font-family:Arial,Helvetica Neue,Helvetica,sans-serif; font-size:48px; text-anchor:middle;\" transform=\"rotate(0, 1508.66, 1479.62)\" x=\"1508.66\" y=\"1479.62\">0.6</text>\n",
       "</g>\n",
       "<g clip-path=\"url(#clip2100)\">\n",
       "<text style=\"fill:#000000; fill-opacity:1; font-family:Arial,Helvetica Neue,Helvetica,sans-serif; font-size:48px; text-anchor:middle;\" transform=\"rotate(0, 1930.71, 1479.62)\" x=\"1930.71\" y=\"1479.62\">0.8</text>\n",
       "</g>\n",
       "<g clip-path=\"url(#clip2100)\">\n",
       "<text style=\"fill:#000000; fill-opacity:1; font-family:Arial,Helvetica Neue,Helvetica,sans-serif; font-size:48px; text-anchor:middle;\" transform=\"rotate(0, 2352.76, 1479.62)\" x=\"2352.76\" y=\"1479.62\">1.0</text>\n",
       "</g>\n",
       "<g clip-path=\"url(#clip2100)\">\n",
       "<text style=\"fill:#000000; fill-opacity:1; font-family:Arial,Helvetica Neue,Helvetica,sans-serif; font-size:48px; text-anchor:end;\" transform=\"rotate(0, 218.516, 1443.12)\" x=\"218.516\" y=\"1443.12\">0.00</text>\n",
       "</g>\n",
       "<g clip-path=\"url(#clip2100)\">\n",
       "<text style=\"fill:#000000; fill-opacity:1; font-family:Arial,Helvetica Neue,Helvetica,sans-serif; font-size:48px; text-anchor:end;\" transform=\"rotate(0, 218.516, 1155.96)\" x=\"218.516\" y=\"1155.96\">0.25</text>\n",
       "</g>\n",
       "<g clip-path=\"url(#clip2100)\">\n",
       "<text style=\"fill:#000000; fill-opacity:1; font-family:Arial,Helvetica Neue,Helvetica,sans-serif; font-size:48px; text-anchor:end;\" transform=\"rotate(0, 218.516, 868.796)\" x=\"218.516\" y=\"868.796\">0.50</text>\n",
       "</g>\n",
       "<g clip-path=\"url(#clip2100)\">\n",
       "<text style=\"fill:#000000; fill-opacity:1; font-family:Arial,Helvetica Neue,Helvetica,sans-serif; font-size:48px; text-anchor:end;\" transform=\"rotate(0, 218.516, 581.635)\" x=\"218.516\" y=\"581.635\">0.75</text>\n",
       "</g>\n",
       "<g clip-path=\"url(#clip2100)\">\n",
       "<text style=\"fill:#000000; fill-opacity:1; font-family:Arial,Helvetica Neue,Helvetica,sans-serif; font-size:48px; text-anchor:end;\" transform=\"rotate(0, 218.516, 294.473)\" x=\"218.516\" y=\"294.473\">1.00</text>\n",
       "</g>\n",
       "<g clip-path=\"url(#clip2100)\">\n",
       "<text style=\"fill:#000000; fill-opacity:1; font-family:Arial,Helvetica Neue,Helvetica,sans-serif; font-size:66px; text-anchor:middle;\" transform=\"rotate(0, 1297.64, 1559.48)\" x=\"1297.64\" y=\"1559.48\">c</text>\n",
       "</g>\n",
       "<g clip-path=\"url(#clip2100)\">\n",
       "<text style=\"fill:#000000; fill-opacity:1; font-family:Arial,Helvetica Neue,Helvetica,sans-serif; font-size:66px; text-anchor:middle;\" transform=\"rotate(-90, 89.2861, 736.431)\" x=\"89.2861\" y=\"736.431\">v1/v</text>\n",
       "</g>\n",
       "<polyline clip-path=\"url(#clip2102)\" style=\"stroke:#009af9; stroke-width:4; stroke-opacity:1; fill:none\" points=\"\n",
       "  242.516,1425.62 263.619,1402.87 284.721,1380.57 305.824,1358.71 326.926,1337.26 348.028,1316.22 369.131,1295.58 390.233,1275.33 411.336,1255.45 432.438,1235.93 \n",
       "  453.54,1216.77 474.643,1197.96 495.745,1179.48 516.848,1161.33 537.95,1143.5 559.052,1125.97 580.155,1108.75 601.257,1091.82 622.36,1075.18 643.462,1058.82 \n",
       "  664.564,1042.74 685.667,1026.92 706.769,1011.35 727.872,996.044 748.974,980.982 770.076,966.16 791.179,951.574 812.281,937.218 833.383,923.086 854.486,909.173 \n",
       "  875.588,895.475 896.691,881.985 917.793,868.7 938.895,855.614 959.998,842.724 981.1,830.025 1002.2,817.512 1023.31,805.182 1044.41,793.031 1065.51,781.055 \n",
       "  1086.61,769.25 1107.71,757.612 1128.82,746.138 1149.92,734.825 1171.02,723.669 1192.12,712.666 1213.23,701.815 1234.33,691.111 1255.43,680.551 1276.53,670.134 \n",
       "  1297.64,659.855 1318.74,649.712 1339.84,639.703 1360.94,629.825 1382.05,620.075 1403.15,610.451 1424.25,600.95 1445.35,591.57 1466.46,582.309 1487.56,573.165 \n",
       "  1508.66,564.135 1529.76,555.216 1550.86,546.409 1571.97,537.709 1593.07,529.115 1614.17,520.625 1635.27,512.238 1656.38,503.951 1677.48,495.763 1698.58,487.671 \n",
       "  1719.68,479.675 1740.79,471.773 1761.89,463.962 1782.99,456.242 1804.09,448.61 1825.2,441.065 1846.3,433.607 1867.4,426.232 1888.5,418.941 1909.61,411.73 \n",
       "  1930.71,404.6 1951.81,397.549 1972.91,390.575 1994.02,383.678 2015.12,376.855 2036.22,370.107 2057.32,363.43 2078.42,356.826 2099.53,350.291 2120.63,343.826 \n",
       "  2141.73,337.428 2162.83,331.098 2183.94,324.833 2205.04,318.634 2226.14,312.498 2247.24,306.426 2268.35,300.415 2289.45,294.465 2310.55,288.576 2331.65,282.745 \n",
       "  2352.76,276.973 \n",
       "  \"/>\n",
       "</svg>\n"
      ]
     },
     "execution_count": 15,
     "metadata": {},
     "output_type": "execute_result"
    }
   ],
   "source": [
    "ps = plot(c,R.(c),xlim=(0,1),ylim=(0,1.2),\n",
    "    legend=false,xlabel=\"c\",ylabel=\"v1/v\")"
   ]
  },
  {
   "cell_type": "markdown",
   "metadata": {},
   "source": [
    "### Problem 5 (1.77)"
   ]
  },
  {
   "cell_type": "markdown",
   "metadata": {},
   "source": [
    "Given: $d=25\\ mm=0.025\\ m\\\\\n",
    "b=0.3\\ mm=0.0003\\ m\\\\\n",
    "\\nu=8{\\cdot}10^{-4}\\ {m^2/s}\\\\\n",
    "SG=0.91\\\\\n",
    "v=3\\ m/s\\\\\n",
    "l=0.5\\ m$"
   ]
  },
  {
   "cell_type": "markdown",
   "metadata": {},
   "source": [
    "The moving shaft generates a shear stress on the fluid in the gap around it. The shear stress acts in the opposite direction of the applied force such that $\\Sigma F=0$. Shear stress is defined as $\\tau=\\frac{F}{A}$ where $F$ is equal to the applied force $P$ and $A$ is the surface area of the shaft inside the bearing upon which $\\tau$ acts. We can find the applied force using the relation $P=\\tau A$."
   ]
  },
  {
   "cell_type": "markdown",
   "metadata": {},
   "source": [
    "$A=$ surface area $=2\\pi\\frac{d}{2}l=\\pi dl$"
   ]
  },
  {
   "cell_type": "markdown",
   "metadata": {},
   "source": [
    "$\\tau=\\mu\\frac{du}{dy}$"
   ]
  },
  {
   "cell_type": "markdown",
   "metadata": {},
   "source": [
    "$\\frac{du}{dy}$ is the velocity gradient in the fluid. $u$ where the fluid meets the bearing surface is zero according to the no-slip condition. $u$ where the fluid meets the shaft is the same as $v$ of the shaft. So $\\frac{du}{dy}=\\frac{v}{b}$."
   ]
  },
  {
   "cell_type": "markdown",
   "metadata": {},
   "source": [
    "We can use the relation $\\mu=\\nu\\rho$, where $\\rho=SG\\cdot\\rho_{water\\ at\\ 4^{\\cdot}}$."
   ]
  },
  {
   "cell_type": "markdown",
   "metadata": {},
   "source": [
    "Finally, we have $P=\\nu{\\cdot}SG{\\cdot}\\rho_{water}{\\cdot}\\frac{v}{b}{\\cdot}\\pi{\\cdot}d{\\cdot}l$."
   ]
  },
  {
   "cell_type": "markdown",
   "metadata": {},
   "source": [
    "Plugging in values: $P=\\frac{(8{\\cdot}10^{-4}\\ m^2/s)(0.91)(1000\\ kg/m^3)(3\\ m/s)(0.025\\ m)(0.5\\ m)\\pi}{0.0003\\ m}=\\fbox{$286\\ N$}$"
   ]
  },
  {
   "cell_type": "markdown",
   "metadata": {},
   "source": [
    "### Problem 6 (2.2)"
   ]
  },
  {
   "cell_type": "markdown",
   "metadata": {},
   "source": [
    "Given: $h=11000\\ m\\\\\\rho=1025\\ kg/m^3$"
   ]
  },
  {
   "cell_type": "markdown",
   "metadata": {},
   "source": [
    "$P=P_a+\\rho gh=101325\\ Pa + (1025\\ kg/m^3)(9.81\\ m/s^2)(11000\\ m)=\\fbox{$1.11\\cdot10^{8}Pa$}$"
   ]
  },
  {
   "cell_type": "markdown",
   "metadata": {},
   "source": [
    "### Problem 7 (2.27)"
   ]
  },
  {
   "cell_type": "markdown",
   "metadata": {},
   "source": [
    "Absolute pressure at gage is the same as the absolute pressure at the same height inside the tank:"
   ]
  },
  {
   "cell_type": "markdown",
   "metadata": {},
   "source": [
    "$P_g+P_{\\infty}=P_{air}+\\rho gh\\quad\\Rightarrow\\quad P_{air}=P_g+P_\\infty-\\rho gh\\\\\n",
    "P_{air}=(5\\ psi)+(14.7\\ psi)-\\frac{(62.4\\ lb/ft^3)(32.2\\ ft/s^2)(1\\ ft)}{(144\\ in^2/ft^2)(32.2\\ \\frac{lbf}{lb\\cdot ft \\cdot s^{-2}})}=\\fbox{$19.3\\ psi$}$"
   ]
  },
  {
   "cell_type": "markdown",
   "metadata": {},
   "source": [
    "### Problem 8 (2.40)"
   ]
  },
  {
   "cell_type": "markdown",
   "metadata": {},
   "source": [
    "Let $P_1$ be the pressure where water A and the gage fluid meet, and $P_2$ be that where water B and the gage fluid meet. Let $y_A$ be the height difference between point A and the interface where we measure $P_1$. Similarly, let $y_B$ be the height difference between point B and the other interface. Finally, let $y$ be the height difference between the two interfaces."
   ]
  },
  {
   "cell_type": "markdown",
   "metadata": {},
   "source": [
    "From given values: $y_A=1.1\\ m$, $y_B=0.8\\ m$, $y=0.6\\ m$"
   ]
  },
  {
   "cell_type": "markdown",
   "metadata": {},
   "source": [
    "We can find these relationships: $P_1=P_A+\\rho_w gy_A\\\\\n",
    "P_2=P_B-\\rho_w gy_B\\\\\n",
    "P_1=P_2+SG\\rho_w gy$"
   ]
  },
  {
   "cell_type": "markdown",
   "metadata": {},
   "source": [
    "Rewriting as a system of two equations:\n",
    "$\\\\ \n",
    "P_2=P_A+\\rho_w gy_A-SG\\rho_wgy\\\\\n",
    "P_2=P_B-\\rho_w gy_B$"
   ]
  },
  {
   "cell_type": "markdown",
   "metadata": {},
   "source": [
    "Simplifying and rearranging: $P_A-P_B=-\\rho_wg(y_A+y_B-SGy)$"
   ]
  },
  {
   "cell_type": "markdown",
   "metadata": {},
   "source": [
    "Solving: $P_A-P_B=(-1000\\ kg/m^3)(9.81\\ m/s^2)(1.1\\ m + 0.8\\ m - 2.6\\cdot0.6\\ m)=\\fbox{$3.34\\ kPa$}$"
   ]
  },
  {
   "cell_type": "markdown",
   "metadata": {},
   "source": [
    "### Problem 9 (2.58)"
   ]
  },
  {
   "cell_type": "code",
   "execution_count": null,
   "metadata": {},
   "outputs": [],
   "source": []
  },
  {
   "cell_type": "markdown",
   "metadata": {},
   "source": [
    "### Problem 10 (2.82)"
   ]
  },
  {
   "cell_type": "markdown",
   "metadata": {},
   "source": [
    "Given: hatch diameter $d=2\\ m$, hatch angle $=30^{\\circ}$, distance from top $y=10\\ m$, $\\rho_{seawater}=1024\\ kg/m^3$"
   ]
  },
  {
   "cell_type": "markdown",
   "metadata": {},
   "source": [
    "Two forces are acting on the hatch (neglecting weight): force from the surrounding fluid ($F_R$) and force from air inside the container ($F_{air}$)."
   ]
  },
  {
   "cell_type": "markdown",
   "metadata": {},
   "source": [
    "Finding the force from the surrounding fluid: $$F_R={\\gamma}h_cA=\\rho g\\pi h_c\\frac{d^2}{4}$$$$F_R=(1024\\ kg/m^3)(9.81\\ m/s^2)(\\pi)(10\\ m+\\frac{2\\ m}{2}sin(30^{\\circ}))(\\frac{4\\ m}{4})=331.4\\ kN$$"
   ]
  },
  {
   "cell_type": "markdown",
   "metadata": {},
   "source": [
    "Finding where $F_R$ acts:\n",
    "$$y_R=\\frac{I_{xc}}{y_cA}+y_c=\\frac{\\pi r^4}{4\\cdot y_c\\cdot \\pi r^2}+y_c=\\frac{r^2}{4y_c}+y_c$$\n",
    "where $$y_c=\\frac{10\\ m}{sin30^{\\circ}}+1\\ m=21\\ m$$\n",
    "so $$y_R=21.01\\ m$$"
   ]
  },
  {
   "cell_type": "markdown",
   "metadata": {},
   "source": [
    "Determining $F_{air}$ by summing the moments, using the hinge as the pivot:\n",
    "$$\\Sigma M=0=F_Ry_R+F_{air}y_{air}$$\n",
    "$$F_{air}=\\frac{F_Ry_R}{y_{air}}=\\frac{331.4\\ kN\\cdot (21.01\\ m-20\\ m)}{1\\ m}=334.7\\ kN$$\n",
    "so the pressure of the air inside the container must be\n",
    "$$P_{air}=\\frac{F_{air}}{A}=\\frac{334.7\\ kN}{\\pi r^2}=\\fbox{$106.5\\ kPa$}$$"
   ]
  }
 ],
 "metadata": {
  "kernelspec": {
   "display_name": "Julia 1.2.0",
   "language": "julia",
   "name": "julia-1.2"
  },
  "language_info": {
   "file_extension": ".jl",
   "mimetype": "application/julia",
   "name": "julia",
   "version": "1.2.0"
  }
 },
 "nbformat": 4,
 "nbformat_minor": 2
}
